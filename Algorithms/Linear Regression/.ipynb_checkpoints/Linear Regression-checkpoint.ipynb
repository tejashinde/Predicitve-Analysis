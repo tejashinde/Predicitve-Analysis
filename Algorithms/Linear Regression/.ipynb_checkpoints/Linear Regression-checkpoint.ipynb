{
 "cells": [
  {
   "cell_type": "markdown",
   "metadata": {},
   "source": [
    "# Linear Regression\n",
    "\n",
    "    1. Fitting line in the data (Done on a 2D graph)\n",
    "    2. To see whether we have a direct proportion (If the price goes up, the sales decreases)\n",
    "    3. Given the data points, find M and B (Slope and Y - Intercept)\n",
    " \n",
    "## Model\n",
    "    1. A model is a formula where one variable varies depending on one or more independantt variables."
   ]
  },
  {
   "cell_type": "code",
   "execution_count": 127,
   "metadata": {},
   "outputs": [],
   "source": [
    "import pandas\n",
    "import numpy\n",
    "import matplotlib.pyplot as pyplot\n",
    "from sklearn.linear_model import LinearRegression\n",
    "from sklearn.model_selection import train_test_split\n",
    "from sklearn.metrics import r2_score\n",
    "from scipy import stats"
   ]
  },
  {
   "cell_type": "code",
   "execution_count": 80,
   "metadata": {},
   "outputs": [],
   "source": [
    "dataframe = pandas.read_csv('./data/Advertising.csv')"
   ]
  },
  {
   "cell_type": "code",
   "execution_count": 91,
   "metadata": {},
   "outputs": [
    {
     "data": {
      "text/plain": [
       "60"
      ]
     },
     "execution_count": 91,
     "metadata": {},
     "output_type": "execute_result"
    }
   ],
   "source": [
    "X = dataframe[['TV','Radio','Newspaper']]\n",
    "y = dataframe['Sales']\n",
    "X_train, X_test, y_train, y_test = train_test_split(X, y, test_size = 0.3, random_state = 0)  \n",
    "len(y_train)\n",
    "# x[x.index<=140]\n",
    "len(X_test)\n",
    "# len(y_test)"
   ]
  },
  {
   "cell_type": "code",
   "execution_count": 146,
   "metadata": {},
   "outputs": [
    {
     "name": "stdout",
     "output_type": "stream",
     "text": [
      "Coefficient :  [0.04391531 0.20027962 0.00184368]\n",
      "Intercept :  2.8802552863313213\n"
     ]
    }
   ],
   "source": [
    "regressor = LinearRegression()\n",
    "regressor.fit(X_train,y_train)\n",
    "y_predicted = regressor.predict(X_test)\n",
    "print('Coefficient : ' , regressor.coef_)\n",
    "print('Intercept : ' , regressor.intercept_)"
   ]
  },
  {
   "cell_type": "code",
   "execution_count": 114,
   "metadata": {},
   "outputs": [
    {
     "data": {
      "text/plain": [
       "array([11.3,  8.4,  8.7, 25.4, 11.7,  8.7,  7.2, 13.2,  9.2, 16.6, 24.2,\n",
       "       10.6, 10.5, 15.6, 11.8, 13.2, 17.4,  1.6, 14.7, 17. , 26.2, 10.3,\n",
       "       14.9, 12.9,  8.1, 15.2, 12.6, 22.6, 11.6,  8.5, 12.5, 23.7, 16.1,\n",
       "       21.8,  5.6,  6.7,  9.7, 12.9, 13.6,  7.2, 10.8,  9.5, 15. , 15.9,\n",
       "       17.1, 14. ,  4.8,  8.7, 15.9, 10.4, 12.4, 19.7, 17.6, 15.5, 10.1,\n",
       "        9.7, 21.4, 14.4, 16.6,  5.5])"
      ]
     },
     "execution_count": 114,
     "metadata": {},
     "output_type": "execute_result"
    }
   ],
   "source": [
    "y_test = numpy.array(y_test)\n",
    "y_test"
   ]
  },
  {
   "cell_type": "code",
   "execution_count": 115,
   "metadata": {},
   "outputs": [
    {
     "data": {
      "text/plain": [
       "array([10.05866652,  7.43318827,  6.95305695, 24.16874598, 11.98172029,\n",
       "        6.54464708, 13.19426793, 14.90240334, 11.07675294, 16.25061663,\n",
       "       23.0081158 ,  9.12072148, 10.29342297, 15.3709661 , 11.62396513,\n",
       "       12.1057432 , 18.55030805, 10.85810888, 16.13879856, 17.20281404,\n",
       "       24.25469939,  9.43869821, 15.13419408, 12.41283844,  5.66973859,\n",
       "       15.23876681, 12.1878762 , 20.95164149, 13.22671807,  9.20954724,\n",
       "       13.39812727, 21.61944517, 18.05938674, 21.14798547,  6.73582996,\n",
       "        6.16799717,  7.98042607, 13.09083488, 14.86214078,  6.23597127,\n",
       "       12.35246911,  9.19452235, 15.04717679, 16.23039254, 17.17240889,\n",
       "       13.3341216 ,  3.68035786, 12.53946851, 15.93674769,  8.67881357,\n",
       "       10.62459997, 19.5646526 , 18.3472282 , 15.24662975, 10.04846378,\n",
       "        8.17344188, 21.49061088, 14.137309  , 16.29760212,  8.90502274])"
      ]
     },
     "execution_count": 115,
     "metadata": {},
     "output_type": "execute_result"
    }
   ],
   "source": [
    "y_predicted"
   ]
  },
  {
   "cell_type": "code",
   "execution_count": 116,
   "metadata": {},
   "outputs": [
    {
     "data": {
      "text/html": [
       "<div>\n",
       "<style scoped>\n",
       "    .dataframe tbody tr th:only-of-type {\n",
       "        vertical-align: middle;\n",
       "    }\n",
       "\n",
       "    .dataframe tbody tr th {\n",
       "        vertical-align: top;\n",
       "    }\n",
       "\n",
       "    .dataframe thead th {\n",
       "        text-align: right;\n",
       "    }\n",
       "</style>\n",
       "<table border=\"1\" class=\"dataframe\">\n",
       "  <thead>\n",
       "    <tr style=\"text-align: right;\">\n",
       "      <th></th>\n",
       "      <th>y_test</th>\n",
       "      <th>y_predicted</th>\n",
       "    </tr>\n",
       "  </thead>\n",
       "  <tbody>\n",
       "    <tr>\n",
       "      <th>0</th>\n",
       "      <td>11.3</td>\n",
       "      <td>10.058667</td>\n",
       "    </tr>\n",
       "    <tr>\n",
       "      <th>1</th>\n",
       "      <td>8.4</td>\n",
       "      <td>7.433188</td>\n",
       "    </tr>\n",
       "    <tr>\n",
       "      <th>2</th>\n",
       "      <td>8.7</td>\n",
       "      <td>6.953057</td>\n",
       "    </tr>\n",
       "    <tr>\n",
       "      <th>3</th>\n",
       "      <td>25.4</td>\n",
       "      <td>24.168746</td>\n",
       "    </tr>\n",
       "    <tr>\n",
       "      <th>4</th>\n",
       "      <td>11.7</td>\n",
       "      <td>11.981720</td>\n",
       "    </tr>\n",
       "    <tr>\n",
       "      <th>5</th>\n",
       "      <td>8.7</td>\n",
       "      <td>6.544647</td>\n",
       "    </tr>\n",
       "    <tr>\n",
       "      <th>6</th>\n",
       "      <td>7.2</td>\n",
       "      <td>13.194268</td>\n",
       "    </tr>\n",
       "    <tr>\n",
       "      <th>7</th>\n",
       "      <td>13.2</td>\n",
       "      <td>14.902403</td>\n",
       "    </tr>\n",
       "    <tr>\n",
       "      <th>8</th>\n",
       "      <td>9.2</td>\n",
       "      <td>11.076753</td>\n",
       "    </tr>\n",
       "    <tr>\n",
       "      <th>9</th>\n",
       "      <td>16.6</td>\n",
       "      <td>16.250617</td>\n",
       "    </tr>\n",
       "    <tr>\n",
       "      <th>10</th>\n",
       "      <td>24.2</td>\n",
       "      <td>23.008116</td>\n",
       "    </tr>\n",
       "    <tr>\n",
       "      <th>11</th>\n",
       "      <td>10.6</td>\n",
       "      <td>9.120721</td>\n",
       "    </tr>\n",
       "    <tr>\n",
       "      <th>12</th>\n",
       "      <td>10.5</td>\n",
       "      <td>10.293423</td>\n",
       "    </tr>\n",
       "    <tr>\n",
       "      <th>13</th>\n",
       "      <td>15.6</td>\n",
       "      <td>15.370966</td>\n",
       "    </tr>\n",
       "    <tr>\n",
       "      <th>14</th>\n",
       "      <td>11.8</td>\n",
       "      <td>11.623965</td>\n",
       "    </tr>\n",
       "    <tr>\n",
       "      <th>15</th>\n",
       "      <td>13.2</td>\n",
       "      <td>12.105743</td>\n",
       "    </tr>\n",
       "    <tr>\n",
       "      <th>16</th>\n",
       "      <td>17.4</td>\n",
       "      <td>18.550308</td>\n",
       "    </tr>\n",
       "    <tr>\n",
       "      <th>17</th>\n",
       "      <td>1.6</td>\n",
       "      <td>10.858109</td>\n",
       "    </tr>\n",
       "    <tr>\n",
       "      <th>18</th>\n",
       "      <td>14.7</td>\n",
       "      <td>16.138799</td>\n",
       "    </tr>\n",
       "    <tr>\n",
       "      <th>19</th>\n",
       "      <td>17.0</td>\n",
       "      <td>17.202814</td>\n",
       "    </tr>\n",
       "    <tr>\n",
       "      <th>20</th>\n",
       "      <td>26.2</td>\n",
       "      <td>24.254699</td>\n",
       "    </tr>\n",
       "    <tr>\n",
       "      <th>21</th>\n",
       "      <td>10.3</td>\n",
       "      <td>9.438698</td>\n",
       "    </tr>\n",
       "    <tr>\n",
       "      <th>22</th>\n",
       "      <td>14.9</td>\n",
       "      <td>15.134194</td>\n",
       "    </tr>\n",
       "    <tr>\n",
       "      <th>23</th>\n",
       "      <td>12.9</td>\n",
       "      <td>12.412838</td>\n",
       "    </tr>\n",
       "    <tr>\n",
       "      <th>24</th>\n",
       "      <td>8.1</td>\n",
       "      <td>5.669739</td>\n",
       "    </tr>\n",
       "    <tr>\n",
       "      <th>25</th>\n",
       "      <td>15.2</td>\n",
       "      <td>15.238767</td>\n",
       "    </tr>\n",
       "    <tr>\n",
       "      <th>26</th>\n",
       "      <td>12.6</td>\n",
       "      <td>12.187876</td>\n",
       "    </tr>\n",
       "    <tr>\n",
       "      <th>27</th>\n",
       "      <td>22.6</td>\n",
       "      <td>20.951641</td>\n",
       "    </tr>\n",
       "    <tr>\n",
       "      <th>28</th>\n",
       "      <td>11.6</td>\n",
       "      <td>13.226718</td>\n",
       "    </tr>\n",
       "    <tr>\n",
       "      <th>29</th>\n",
       "      <td>8.5</td>\n",
       "      <td>9.209547</td>\n",
       "    </tr>\n",
       "    <tr>\n",
       "      <th>30</th>\n",
       "      <td>12.5</td>\n",
       "      <td>13.398127</td>\n",
       "    </tr>\n",
       "    <tr>\n",
       "      <th>31</th>\n",
       "      <td>23.7</td>\n",
       "      <td>21.619445</td>\n",
       "    </tr>\n",
       "    <tr>\n",
       "      <th>32</th>\n",
       "      <td>16.1</td>\n",
       "      <td>18.059387</td>\n",
       "    </tr>\n",
       "    <tr>\n",
       "      <th>33</th>\n",
       "      <td>21.8</td>\n",
       "      <td>21.147985</td>\n",
       "    </tr>\n",
       "    <tr>\n",
       "      <th>34</th>\n",
       "      <td>5.6</td>\n",
       "      <td>6.735830</td>\n",
       "    </tr>\n",
       "    <tr>\n",
       "      <th>35</th>\n",
       "      <td>6.7</td>\n",
       "      <td>6.167997</td>\n",
       "    </tr>\n",
       "    <tr>\n",
       "      <th>36</th>\n",
       "      <td>9.7</td>\n",
       "      <td>7.980426</td>\n",
       "    </tr>\n",
       "    <tr>\n",
       "      <th>37</th>\n",
       "      <td>12.9</td>\n",
       "      <td>13.090835</td>\n",
       "    </tr>\n",
       "    <tr>\n",
       "      <th>38</th>\n",
       "      <td>13.6</td>\n",
       "      <td>14.862141</td>\n",
       "    </tr>\n",
       "    <tr>\n",
       "      <th>39</th>\n",
       "      <td>7.2</td>\n",
       "      <td>6.235971</td>\n",
       "    </tr>\n",
       "    <tr>\n",
       "      <th>40</th>\n",
       "      <td>10.8</td>\n",
       "      <td>12.352469</td>\n",
       "    </tr>\n",
       "    <tr>\n",
       "      <th>41</th>\n",
       "      <td>9.5</td>\n",
       "      <td>9.194522</td>\n",
       "    </tr>\n",
       "    <tr>\n",
       "      <th>42</th>\n",
       "      <td>15.0</td>\n",
       "      <td>15.047177</td>\n",
       "    </tr>\n",
       "    <tr>\n",
       "      <th>43</th>\n",
       "      <td>15.9</td>\n",
       "      <td>16.230393</td>\n",
       "    </tr>\n",
       "    <tr>\n",
       "      <th>44</th>\n",
       "      <td>17.1</td>\n",
       "      <td>17.172409</td>\n",
       "    </tr>\n",
       "    <tr>\n",
       "      <th>45</th>\n",
       "      <td>14.0</td>\n",
       "      <td>13.334122</td>\n",
       "    </tr>\n",
       "    <tr>\n",
       "      <th>46</th>\n",
       "      <td>4.8</td>\n",
       "      <td>3.680358</td>\n",
       "    </tr>\n",
       "    <tr>\n",
       "      <th>47</th>\n",
       "      <td>8.7</td>\n",
       "      <td>12.539469</td>\n",
       "    </tr>\n",
       "    <tr>\n",
       "      <th>48</th>\n",
       "      <td>15.9</td>\n",
       "      <td>15.936748</td>\n",
       "    </tr>\n",
       "    <tr>\n",
       "      <th>49</th>\n",
       "      <td>10.4</td>\n",
       "      <td>8.678814</td>\n",
       "    </tr>\n",
       "    <tr>\n",
       "      <th>50</th>\n",
       "      <td>12.4</td>\n",
       "      <td>10.624600</td>\n",
       "    </tr>\n",
       "    <tr>\n",
       "      <th>51</th>\n",
       "      <td>19.7</td>\n",
       "      <td>19.564653</td>\n",
       "    </tr>\n",
       "    <tr>\n",
       "      <th>52</th>\n",
       "      <td>17.6</td>\n",
       "      <td>18.347228</td>\n",
       "    </tr>\n",
       "    <tr>\n",
       "      <th>53</th>\n",
       "      <td>15.5</td>\n",
       "      <td>15.246630</td>\n",
       "    </tr>\n",
       "    <tr>\n",
       "      <th>54</th>\n",
       "      <td>10.1</td>\n",
       "      <td>10.048464</td>\n",
       "    </tr>\n",
       "    <tr>\n",
       "      <th>55</th>\n",
       "      <td>9.7</td>\n",
       "      <td>8.173442</td>\n",
       "    </tr>\n",
       "    <tr>\n",
       "      <th>56</th>\n",
       "      <td>21.4</td>\n",
       "      <td>21.490611</td>\n",
       "    </tr>\n",
       "    <tr>\n",
       "      <th>57</th>\n",
       "      <td>14.4</td>\n",
       "      <td>14.137309</td>\n",
       "    </tr>\n",
       "    <tr>\n",
       "      <th>58</th>\n",
       "      <td>16.6</td>\n",
       "      <td>16.297602</td>\n",
       "    </tr>\n",
       "    <tr>\n",
       "      <th>59</th>\n",
       "      <td>5.5</td>\n",
       "      <td>8.905023</td>\n",
       "    </tr>\n",
       "  </tbody>\n",
       "</table>\n",
       "</div>"
      ],
      "text/plain": [
       "    y_test  y_predicted\n",
       "0     11.3    10.058667\n",
       "1      8.4     7.433188\n",
       "2      8.7     6.953057\n",
       "3     25.4    24.168746\n",
       "4     11.7    11.981720\n",
       "5      8.7     6.544647\n",
       "6      7.2    13.194268\n",
       "7     13.2    14.902403\n",
       "8      9.2    11.076753\n",
       "9     16.6    16.250617\n",
       "10    24.2    23.008116\n",
       "11    10.6     9.120721\n",
       "12    10.5    10.293423\n",
       "13    15.6    15.370966\n",
       "14    11.8    11.623965\n",
       "15    13.2    12.105743\n",
       "16    17.4    18.550308\n",
       "17     1.6    10.858109\n",
       "18    14.7    16.138799\n",
       "19    17.0    17.202814\n",
       "20    26.2    24.254699\n",
       "21    10.3     9.438698\n",
       "22    14.9    15.134194\n",
       "23    12.9    12.412838\n",
       "24     8.1     5.669739\n",
       "25    15.2    15.238767\n",
       "26    12.6    12.187876\n",
       "27    22.6    20.951641\n",
       "28    11.6    13.226718\n",
       "29     8.5     9.209547\n",
       "30    12.5    13.398127\n",
       "31    23.7    21.619445\n",
       "32    16.1    18.059387\n",
       "33    21.8    21.147985\n",
       "34     5.6     6.735830\n",
       "35     6.7     6.167997\n",
       "36     9.7     7.980426\n",
       "37    12.9    13.090835\n",
       "38    13.6    14.862141\n",
       "39     7.2     6.235971\n",
       "40    10.8    12.352469\n",
       "41     9.5     9.194522\n",
       "42    15.0    15.047177\n",
       "43    15.9    16.230393\n",
       "44    17.1    17.172409\n",
       "45    14.0    13.334122\n",
       "46     4.8     3.680358\n",
       "47     8.7    12.539469\n",
       "48    15.9    15.936748\n",
       "49    10.4     8.678814\n",
       "50    12.4    10.624600\n",
       "51    19.7    19.564653\n",
       "52    17.6    18.347228\n",
       "53    15.5    15.246630\n",
       "54    10.1    10.048464\n",
       "55     9.7     8.173442\n",
       "56    21.4    21.490611\n",
       "57    14.4    14.137309\n",
       "58    16.6    16.297602\n",
       "59     5.5     8.905023"
      ]
     },
     "execution_count": 116,
     "metadata": {},
     "output_type": "execute_result"
    }
   ],
   "source": [
    "pandas.DataFrame({\"y_test\" : y_test , \"y_predicted\" : y_predicted})"
   ]
  },
  {
   "cell_type": "code",
   "execution_count": 117,
   "metadata": {
    "scrolled": false
   },
   "outputs": [
    {
     "data": {
      "text/plain": [
       "0.8649018906637793"
      ]
     },
     "execution_count": 117,
     "metadata": {},
     "output_type": "execute_result"
    }
   ],
   "source": [
    "r2_score(y_test , y_predicted)"
   ]
  },
  {
   "cell_type": "code",
   "execution_count": 126,
   "metadata": {},
   "outputs": [
    {
     "data": {
      "text/plain": [
       "[<matplotlib.lines.Line2D at 0x203fefb0>]"
      ]
     },
     "execution_count": 126,
     "metadata": {},
     "output_type": "execute_result"
    },
    {
     "data": {
      "image/png": "[encoded data removed]",
      "text/plain": [
       "<Figure size 1080x576 with 1 Axes>"
      ]
     },
     "metadata": {
      "needs_background": "light"
     },
     "output_type": "display_data"
    }
   ],
   "source": [
    "pyplot.figure(figsize = (15,8))\n",
    "pyplot.scatter(X_train.Newspaper , y_train , color = 'black')\n",
    "X1 = numpy.linspace(numpy.min(X_train.Newspaper) , numpy.max(X_train.Newspaper) , 500)\n",
    "pyplot.plot(X1 , (regressor.coef_[0] * ) , color='red', linewidth = 1)"
   ]
  },
  {
   "cell_type": "code",
   "execution_count": 130,
   "metadata": {},
   "outputs": [],
   "source": [
    "slope , intercept , rvalue , pvalue , stderr = stats.linregress(X.Newspaper , y)"
   ]
  },
  {
   "cell_type": "code",
   "execution_count": 142,
   "metadata": {},
   "outputs": [
    {
     "data": {
      "text/plain": [
       "[<matplotlib.lines.Line2D at 0x1e71ecd0>]"
      ]
     },
     "execution_count": 142,
     "metadata": {},
     "output_type": "execute_result"
    },
    {
     "data": {
      "image/png": "[encoded data removed]",
      "text/plain": [
       "<Figure size 432x288 with 1 Axes>"
      ]
     },
     "metadata": {
      "needs_background": "light"
     },
     "output_type": "display_data"
    }
   ],
   "source": [
    "X1 = numpy.linspace(numpy.min(X.Newspaper) , numpy.max(X.Newspaper) , 500)\n",
    "Y1 = slope * X1 + intercept\n",
    "pyplot.plot(X.Newspaper , y , 'ob')\n",
    "pyplot.plot(X1 , Y1 , '-r')"
   ]
  },
  {
   "cell_type": "code",
   "execution_count": null,
   "metadata": {},
   "outputs": [],
   "source": []
  }
 ],
 "metadata": {
  "kernelspec": {
   "display_name": "Python 3",
   "language": "python",
   "name": "python3"
  },
  "language_info": {
   "codemirror_mode": {
    "name": "ipython",
    "version": 3
   },
   "file_extension": ".py",
   "mimetype": "text/x-python",
   "name": "python",
   "nbconvert_exporter": "python",
   "pygments_lexer": "ipython3",
   "version": "3.7.0"
  }
 },
 "nbformat": 4,
 "nbformat_minor": 2
}
